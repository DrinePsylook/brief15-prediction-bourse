{
 "cells": [
  {
   "cell_type": "markdown",
   "id": "939a9028",
   "metadata": {},
   "source": [
    "# Algos de Machine Learning"
   ]
  },
  {
   "cell_type": "markdown",
   "id": "6d4a2b53",
   "metadata": {},
   "source": [
    "## ARIMA"
   ]
  },
  {
   "cell_type": "code",
   "execution_count": 193,
   "id": "a64a72e0",
   "metadata": {},
   "outputs": [],
   "source": [
    "import pandas as pd\n",
    "import numpy as np\n",
    "\n",
    "import plotly.express as px\n",
    "import seaborn as sns\n",
    "import matplotlib.pyplot as plt\n",
    "import matplotlib.dates as mdates\n",
    "\n",
    "from statsmodels.tsa.stattools import adfuller\n",
    "from statsmodels.tsa.arima.model import ARIMA\n",
    "from sklearn.metrics import mean_squared_error, r2_score, mean_absolute_error\n",
    "from sklearn.ensemble import RandomForestRegressor\n",
    "from sklearn.model_selection import train_test_split\n",
    "from sklearn.preprocessing import StandardScaler\n",
    "from sklearn.model_selection import GridSearchCV\n",
    "import ta"
   ]
  },
  {
   "cell_type": "code",
   "execution_count": 194,
   "id": "b3fa4f23",
   "metadata": {},
   "outputs": [
    {
     "data": {
      "text/html": [
       "<div>\n",
       "<style scoped>\n",
       "    .dataframe tbody tr th:only-of-type {\n",
       "        vertical-align: middle;\n",
       "    }\n",
       "\n",
       "    .dataframe tbody tr th {\n",
       "        vertical-align: top;\n",
       "    }\n",
       "\n",
       "    .dataframe thead th {\n",
       "        text-align: right;\n",
       "    }\n",
       "</style>\n",
       "<table border=\"1\" class=\"dataframe\">\n",
       "  <thead>\n",
       "    <tr style=\"text-align: right;\">\n",
       "      <th></th>\n",
       "      <th>date</th>\n",
       "      <th>open</th>\n",
       "      <th>high</th>\n",
       "      <th>low</th>\n",
       "      <th>close</th>\n",
       "      <th>volume</th>\n",
       "    </tr>\n",
       "  </thead>\n",
       "  <tbody>\n",
       "    <tr>\n",
       "      <th>0</th>\n",
       "      <td>2010-01-04</td>\n",
       "      <td>7.62</td>\n",
       "      <td>7.66</td>\n",
       "      <td>7.58</td>\n",
       "      <td>7.64</td>\n",
       "      <td>493729600</td>\n",
       "    </tr>\n",
       "    <tr>\n",
       "      <th>1</th>\n",
       "      <td>2010-01-05</td>\n",
       "      <td>7.66</td>\n",
       "      <td>7.70</td>\n",
       "      <td>7.62</td>\n",
       "      <td>7.66</td>\n",
       "      <td>601904800</td>\n",
       "    </tr>\n",
       "    <tr>\n",
       "      <th>2</th>\n",
       "      <td>2010-01-06</td>\n",
       "      <td>7.66</td>\n",
       "      <td>7.69</td>\n",
       "      <td>7.53</td>\n",
       "      <td>7.53</td>\n",
       "      <td>552160000</td>\n",
       "    </tr>\n",
       "    <tr>\n",
       "      <th>3</th>\n",
       "      <td>2010-01-07</td>\n",
       "      <td>7.56</td>\n",
       "      <td>7.57</td>\n",
       "      <td>7.47</td>\n",
       "      <td>7.52</td>\n",
       "      <td>477131200</td>\n",
       "    </tr>\n",
       "    <tr>\n",
       "      <th>4</th>\n",
       "      <td>2010-01-08</td>\n",
       "      <td>7.51</td>\n",
       "      <td>7.57</td>\n",
       "      <td>7.47</td>\n",
       "      <td>7.57</td>\n",
       "      <td>447876740</td>\n",
       "    </tr>\n",
       "  </tbody>\n",
       "</table>\n",
       "</div>"
      ],
      "text/plain": [
       "         date  open  high   low  close     volume\n",
       "0  2010-01-04  7.62  7.66  7.58   7.64  493729600\n",
       "1  2010-01-05  7.66  7.70  7.62   7.66  601904800\n",
       "2  2010-01-06  7.66  7.69  7.53   7.53  552160000\n",
       "3  2010-01-07  7.56  7.57  7.47   7.52  477131200\n",
       "4  2010-01-08  7.51  7.57  7.47   7.57  447876740"
      ]
     },
     "execution_count": 194,
     "metadata": {},
     "output_type": "execute_result"
    }
   ],
   "source": [
    "apple_df = pd.read_csv(\"datas/apple_data.csv\")\n",
    "apple_df.head()"
   ]
  },
  {
   "cell_type": "markdown",
   "id": "0e571b12",
   "metadata": {},
   "source": [
    "- Rendre la série stationnaire avec une différenciation d'ordre 1 : stabiliser la moyenne + enlever la tendance"
   ]
  },
  {
   "cell_type": "code",
   "execution_count": 195,
   "id": "2151493e",
   "metadata": {},
   "outputs": [],
   "source": [
    "close_apple = apple_df['close']"
   ]
  },
  {
   "cell_type": "code",
   "execution_count": 196,
   "id": "6baa81c4",
   "metadata": {},
   "outputs": [
    {
     "name": "stdout",
     "output_type": "stream",
     "text": [
      "Statistique ADF (diff) : -11.351503674577929\n",
      "Valeur p (diff) : 9.968907474361587e-21\n"
     ]
    }
   ],
   "source": [
    "close_apple_diff = close_apple.diff().dropna()\n",
    "\n",
    "result_diff = adfuller(close_apple_diff)\n",
    "print(f\"Statistique ADF (diff) : {result_diff[0]}\")\n",
    "print(f\"Valeur p (diff) : {result_diff[1]}\")"
   ]
  },
  {
   "cell_type": "markdown",
   "id": "a8053775",
   "metadata": {},
   "source": [
    "Split temporel :"
   ]
  },
  {
   "cell_type": "code",
   "execution_count": 197,
   "id": "541ba6d9",
   "metadata": {},
   "outputs": [],
   "source": [
    "train_size = int(len(close_apple) * 0.8)\n",
    "train_arima = close_apple[:train_size]\n",
    "test_arima = close_apple[train_size:]"
   ]
  },
  {
   "cell_type": "markdown",
   "id": "01e96d6d",
   "metadata": {},
   "source": [
    "explication pour order=(2, 1, 2) \n",
    "- p=2 : 2 termes autorégressifs (AR)\n",
    "- d=1 : 1 différenciation (=> stationnarisation)\n",
    "- q=2 : 2 termes de moyenne mobile (MA)"
   ]
  },
  {
   "cell_type": "code",
   "execution_count": 198,
   "id": "26cbd079",
   "metadata": {},
   "outputs": [
    {
     "name": "stdout",
     "output_type": "stream",
     "text": [
      "                               SARIMAX Results                                \n",
      "==============================================================================\n",
      "Dep. Variable:                  close   No. Observations:                 3078\n",
      "Model:                 ARIMA(2, 1, 2)   Log Likelihood               -4817.914\n",
      "Date:                Thu, 24 Apr 2025   AIC                           9645.828\n",
      "Time:                        11:15:46   BIC                           9675.986\n",
      "Sample:                             0   HQIC                          9656.662\n",
      "                               - 3078                                         \n",
      "Covariance Type:                  opg                                         \n",
      "==============================================================================\n",
      "                 coef    std err          z      P>|z|      [0.025      0.975]\n",
      "------------------------------------------------------------------------------\n",
      "ar.L1          0.1712      0.475      0.361      0.718      -0.759       1.101\n",
      "ar.L2          0.3088      0.156      1.978      0.048       0.003       0.615\n",
      "ma.L1         -0.2153      0.474     -0.454      0.650      -1.144       0.713\n",
      "ma.L2         -0.2955      0.153     -1.926      0.054      -0.596       0.005\n",
      "sigma2         1.3414      0.012    112.921      0.000       1.318       1.365\n",
      "===================================================================================\n",
      "Ljung-Box (L1) (Q):                   0.03   Jarque-Bera (JB):             33186.09\n",
      "Prob(Q):                              0.86   Prob(JB):                         0.00\n",
      "Heteroskedasticity (H):              47.69   Skew:                             0.22\n",
      "Prob(H) (two-sided):                  0.00   Kurtosis:                        19.08\n",
      "===================================================================================\n",
      "\n",
      "Warnings:\n",
      "[1] Covariance matrix calculated using the outer product of gradients (complex-step).\n"
     ]
    }
   ],
   "source": [
    "model = ARIMA(train_arima, order=(2, 1, 2))\n",
    "model_fit = model.fit()\n",
    "print(model_fit.summary())"
   ]
  },
  {
   "cell_type": "code",
   "execution_count": 199,
   "id": "1a20d2f1",
   "metadata": {},
   "outputs": [
    {
     "name": "stdout",
     "output_type": "stream",
     "text": [
      "Prévision du cours du jour suivant : 173.84062934612254\n",
      "3078    173.840629\n",
      "3079    173.828399\n",
      "3080    173.755483\n",
      "3081    173.739226\n",
      "3082    173.713930\n",
      "           ...    \n",
      "3843    173.680936\n",
      "3844    173.680936\n",
      "3845    173.680936\n",
      "3846    173.680936\n",
      "3847    173.680936\n",
      "Name: predicted_mean, Length: 770, dtype: float64\n"
     ]
    }
   ],
   "source": [
    "forecast = model_fit.forecast(steps=len(test_arima))\n",
    "print(\"Prévision du cours du jour suivant :\", forecast.iloc[0])\n",
    "print(forecast)"
   ]
  },
  {
   "cell_type": "code",
   "execution_count": 200,
   "id": "aa64d1c8",
   "metadata": {},
   "outputs": [
    {
     "name": "stdout",
     "output_type": "stream",
     "text": [
      "RMSE Arima : 33.56\n"
     ]
    }
   ],
   "source": [
    "mse = mean_squared_error(test_arima, forecast)\n",
    "rmse_arima = np.sqrt(mse)\n",
    "print(f\"RMSE Arima : {rmse_arima:.2f}\")"
   ]
  },
  {
   "cell_type": "code",
   "execution_count": 201,
   "id": "540f583d",
   "metadata": {},
   "outputs": [
    {
     "name": "stdout",
     "output_type": "stream",
     "text": [
      "MAPE Arima : 13.93%\n"
     ]
    }
   ],
   "source": [
    "#erreur relative = % d'erreur moyen\n",
    "mape_arima = np.mean(np.abs((test_arima - forecast) / test_arima)) * 100\n",
    "print(f\"MAPE Arima : {mape_arima:.2f}%\")"
   ]
  },
  {
   "cell_type": "code",
   "execution_count": 202,
   "id": "84bdc83f",
   "metadata": {},
   "outputs": [
    {
     "data": {
      "image/png": "[encoded data removed]",
      "text/plain": [
       "<Figure size 1200x600 with 1 Axes>"
      ]
     },
     "metadata": {},
     "output_type": "display_data"
    }
   ],
   "source": [
    "plt.figure(figsize=(12,6))\n",
    "plt.plot(test_arima.index, test_arima, label='Vrai')\n",
    "plt.plot(test_arima.index, forecast, label='Prévu', linestyle='--')\n",
    "plt.legend()\n",
    "plt.title(\"Évaluation ARIMA sur données de test\")\n",
    "plt.show()"
   ]
  },
  {
   "cell_type": "markdown",
   "id": "b3abc21b",
   "metadata": {},
   "source": [
    "# Random Forest"
   ]
  },
  {
   "cell_type": "markdown",
   "id": "027193a9",
   "metadata": {},
   "source": [
    "Baseline : à partir des données du jour-même"
   ]
  },
  {
   "cell_type": "code",
   "execution_count": 203,
   "id": "3547f296",
   "metadata": {},
   "outputs": [],
   "source": [
    "X = apple_df[['open', 'high', 'low', 'volume']]\n",
    "y = apple_df['close']"
   ]
  },
  {
   "cell_type": "code",
   "execution_count": 204,
   "id": "0b98083c",
   "metadata": {},
   "outputs": [],
   "source": [
    "scaler = StandardScaler()\n",
    "X_scaled = scaler.fit_transform(X)"
   ]
  },
  {
   "cell_type": "code",
   "execution_count": 205,
   "id": "8c067d78",
   "metadata": {},
   "outputs": [],
   "source": [
    "X_train, X_test, y_train, y_test_rf = train_test_split(X_scaled, y, test_size=0.2, shuffle=False)"
   ]
  },
  {
   "cell_type": "code",
   "execution_count": 206,
   "id": "fe2b683c",
   "metadata": {},
   "outputs": [
    {
     "data": {
      "text/html": [
       "<style>#sk-container-id-7 {\n",
       "  /* Definition of color scheme common for light and dark mode */\n",
       "  --sklearn-color-text: #000;\n",
       "  --sklearn-color-text-muted: #666;\n",
       "  --sklearn-color-line: gray;\n",
       "  /* Definition of color scheme for unfitted estimators */\n",
       "  --sklearn-color-unfitted-level-0: #fff5e6;\n",
       "  --sklearn-color-unfitted-level-1: #f6e4d2;\n",
       "  --sklearn-color-unfitted-level-2: #ffe0b3;\n",
       "  --sklearn-color-unfitted-level-3: chocolate;\n",
       "  /* Definition of color scheme for fitted estimators */\n",
       "  --sklearn-color-fitted-level-0: #f0f8ff;\n",
       "  --sklearn-color-fitted-level-1: #d4ebff;\n",
       "  --sklearn-color-fitted-level-2: #b3dbfd;\n",
       "  --sklearn-color-fitted-level-3: cornflowerblue;\n",
       "\n",
       "  /* Specific color for light theme */\n",
       "  --sklearn-color-text-on-default-background: var(--sg-text-color, var(--theme-code-foreground, var(--jp-content-font-color1, black)));\n",
       "  --sklearn-color-background: var(--sg-background-color, var(--theme-background, var(--jp-layout-color0, white)));\n",
       "  --sklearn-color-border-box: var(--sg-text-color, var(--theme-code-foreground, var(--jp-content-font-color1, black)));\n",
       "  --sklearn-color-icon: #696969;\n",
       "\n",
       "  @media (prefers-color-scheme: dark) {\n",
       "    /* Redefinition of color scheme for dark theme */\n",
       "    --sklearn-color-text-on-default-background: var(--sg-text-color, var(--theme-code-foreground, var(--jp-content-font-color1, white)));\n",
       "    --sklearn-color-background: var(--sg-background-color, var(--theme-background, var(--jp-layout-color0, #111)));\n",
       "    --sklearn-color-border-box: var(--sg-text-color, var(--theme-code-foreground, var(--jp-content-font-color1, white)));\n",
       "    --sklearn-color-icon: #878787;\n",
       "  }\n",
       "}\n",
       "\n",
       "#sk-container-id-7 {\n",
       "  color: var(--sklearn-color-text);\n",
       "}\n",
       "\n",
       "#sk-container-id-7 pre {\n",
       "  padding: 0;\n",
       "}\n",
       "\n",
       "#sk-container-id-7 input.sk-hidden--visually {\n",
       "  border: 0;\n",
       "  clip: rect(1px 1px 1px 1px);\n",
       "  clip: rect(1px, 1px, 1px, 1px);\n",
       "  height: 1px;\n",
       "  margin: -1px;\n",
       "  overflow: hidden;\n",
       "  padding: 0;\n",
       "  position: absolute;\n",
       "  width: 1px;\n",
       "}\n",
       "\n",
       "#sk-container-id-7 div.sk-dashed-wrapped {\n",
       "  border: 1px dashed var(--sklearn-color-line);\n",
       "  margin: 0 0.4em 0.5em 0.4em;\n",
       "  box-sizing: border-box;\n",
       "  padding-bottom: 0.4em;\n",
       "  background-color: var(--sklearn-color-background);\n",
       "}\n",
       "\n",
       "#sk-container-id-7 div.sk-container {\n",
       "  /* jupyter's `normalize.less` sets `[hidden] { display: none; }`\n",
       "     but bootstrap.min.css set `[hidden] { display: none !important; }`\n",
       "     so we also need the `!important` here to be able to override the\n",
       "     default hidden behavior on the sphinx rendered scikit-learn.org.\n",
       "     See: https://github.com/scikit-learn/scikit-learn/issues/21755 */\n",
       "  display: inline-block !important;\n",
       "  position: relative;\n",
       "}\n",
       "\n",
       "#sk-container-id-7 div.sk-text-repr-fallback {\n",
       "  display: none;\n",
       "}\n",
       "\n",
       "div.sk-parallel-item,\n",
       "div.sk-serial,\n",
       "div.sk-item {\n",
       "  /* draw centered vertical line to link estimators */\n",
       "  background-image: linear-gradient(var(--sklearn-color-text-on-default-background), var(--sklearn-color-text-on-default-background));\n",
       "  background-size: 2px 100%;\n",
       "  background-repeat: no-repeat;\n",
       "  background-position: center center;\n",
       "}\n",
       "\n",
       "/* Parallel-specific style estimator block */\n",
       "\n",
       "#sk-container-id-7 div.sk-parallel-item::after {\n",
       "  content: \"\";\n",
       "  width: 100%;\n",
       "  border-bottom: 2px solid var(--sklearn-color-text-on-default-background);\n",
       "  flex-grow: 1;\n",
       "}\n",
       "\n",
       "#sk-container-id-7 div.sk-parallel {\n",
       "  display: flex;\n",
       "  align-items: stretch;\n",
       "  justify-content: center;\n",
       "  background-color: var(--sklearn-color-background);\n",
       "  position: relative;\n",
       "}\n",
       "\n",
       "#sk-container-id-7 div.sk-parallel-item {\n",
       "  display: flex;\n",
       "  flex-direction: column;\n",
       "}\n",
       "\n",
       "#sk-container-id-7 div.sk-parallel-item:first-child::after {\n",
       "  align-self: flex-end;\n",
       "  width: 50%;\n",
       "}\n",
       "\n",
       "#sk-container-id-7 div.sk-parallel-item:last-child::after {\n",
       "  align-self: flex-start;\n",
       "  width: 50%;\n",
       "}\n",
       "\n",
       "#sk-container-id-7 div.sk-parallel-item:only-child::after {\n",
       "  width: 0;\n",
       "}\n",
       "\n",
       "/* Serial-specific style estimator block */\n",
       "\n",
       "#sk-container-id-7 div.sk-serial {\n",
       "  display: flex;\n",
       "  flex-direction: column;\n",
       "  align-items: center;\n",
       "  background-color: var(--sklearn-color-background);\n",
       "  padding-right: 1em;\n",
       "  padding-left: 1em;\n",
       "}\n",
       "\n",
       "\n",
       "/* Toggleable style: style used for estimator/Pipeline/ColumnTransformer box that is\n",
       "clickable and can be expanded/collapsed.\n",
       "- Pipeline and ColumnTransformer use this feature and define the default style\n",
       "- Estimators will overwrite some part of the style using the `sk-estimator` class\n",
       "*/\n",
       "\n",
       "/* Pipeline and ColumnTransformer style (default) */\n",
       "\n",
       "#sk-container-id-7 div.sk-toggleable {\n",
       "  /* Default theme specific background. It is overwritten whether we have a\n",
       "  specific estimator or a Pipeline/ColumnTransformer */\n",
       "  background-color: var(--sklearn-color-background);\n",
       "}\n",
       "\n",
       "/* Toggleable label */\n",
       "#sk-container-id-7 label.sk-toggleable__label {\n",
       "  cursor: pointer;\n",
       "  display: flex;\n",
       "  width: 100%;\n",
       "  margin-bottom: 0;\n",
       "  padding: 0.5em;\n",
       "  box-sizing: border-box;\n",
       "  text-align: center;\n",
       "  align-items: start;\n",
       "  justify-content: space-between;\n",
       "  gap: 0.5em;\n",
       "}\n",
       "\n",
       "#sk-container-id-7 label.sk-toggleable__label .caption {\n",
       "  font-size: 0.6rem;\n",
       "  font-weight: lighter;\n",
       "  color: var(--sklearn-color-text-muted);\n",
       "}\n",
       "\n",
       "#sk-container-id-7 label.sk-toggleable__label-arrow:before {\n",
       "  /* Arrow on the left of the label */\n",
       "  content: \"▸\";\n",
       "  float: left;\n",
       "  margin-right: 0.25em;\n",
       "  color: var(--sklearn-color-icon);\n",
       "}\n",
       "\n",
       "#sk-container-id-7 label.sk-toggleable__label-arrow:hover:before {\n",
       "  color: var(--sklearn-color-text);\n",
       "}\n",
       "\n",
       "/* Toggleable content - dropdown */\n",
       "\n",
       "#sk-container-id-7 div.sk-toggleable__content {\n",
       "  max-height: 0;\n",
       "  max-width: 0;\n",
       "  overflow: hidden;\n",
       "  text-align: left;\n",
       "  /* unfitted */\n",
       "  background-color: var(--sklearn-color-unfitted-level-0);\n",
       "}\n",
       "\n",
       "#sk-container-id-7 div.sk-toggleable__content.fitted {\n",
       "  /* fitted */\n",
       "  background-color: var(--sklearn-color-fitted-level-0);\n",
       "}\n",
       "\n",
       "#sk-container-id-7 div.sk-toggleable__content pre {\n",
       "  margin: 0.2em;\n",
       "  border-radius: 0.25em;\n",
       "  color: var(--sklearn-color-text);\n",
       "  /* unfitted */\n",
       "  background-color: var(--sklearn-color-unfitted-level-0);\n",
       "}\n",
       "\n",
       "#sk-container-id-7 div.sk-toggleable__content.fitted pre {\n",
       "  /* unfitted */\n",
       "  background-color: var(--sklearn-color-fitted-level-0);\n",
       "}\n",
       "\n",
       "#sk-container-id-7 input.sk-toggleable__control:checked~div.sk-toggleable__content {\n",
       "  /* Expand drop-down */\n",
       "  max-height: 200px;\n",
       "  max-width: 100%;\n",
       "  overflow: auto;\n",
       "}\n",
       "\n",
       "#sk-container-id-7 input.sk-toggleable__control:checked~label.sk-toggleable__label-arrow:before {\n",
       "  content: \"▾\";\n",
       "}\n",
       "\n",
       "/* Pipeline/ColumnTransformer-specific style */\n",
       "\n",
       "#sk-container-id-7 div.sk-label input.sk-toggleable__control:checked~label.sk-toggleable__label {\n",
       "  color: var(--sklearn-color-text);\n",
       "  background-color: var(--sklearn-color-unfitted-level-2);\n",
       "}\n",
       "\n",
       "#sk-container-id-7 div.sk-label.fitted input.sk-toggleable__control:checked~label.sk-toggleable__label {\n",
       "  background-color: var(--sklearn-color-fitted-level-2);\n",
       "}\n",
       "\n",
       "/* Estimator-specific style */\n",
       "\n",
       "/* Colorize estimator box */\n",
       "#sk-container-id-7 div.sk-estimator input.sk-toggleable__control:checked~label.sk-toggleable__label {\n",
       "  /* unfitted */\n",
       "  background-color: var(--sklearn-color-unfitted-level-2);\n",
       "}\n",
       "\n",
       "#sk-container-id-7 div.sk-estimator.fitted input.sk-toggleable__control:checked~label.sk-toggleable__label {\n",
       "  /* fitted */\n",
       "  background-color: var(--sklearn-color-fitted-level-2);\n",
       "}\n",
       "\n",
       "#sk-container-id-7 div.sk-label label.sk-toggleable__label,\n",
       "#sk-container-id-7 div.sk-label label {\n",
       "  /* The background is the default theme color */\n",
       "  color: var(--sklearn-color-text-on-default-background);\n",
       "}\n",
       "\n",
       "/* On hover, darken the color of the background */\n",
       "#sk-container-id-7 div.sk-label:hover label.sk-toggleable__label {\n",
       "  color: var(--sklearn-color-text);\n",
       "  background-color: var(--sklearn-color-unfitted-level-2);\n",
       "}\n",
       "\n",
       "/* Label box, darken color on hover, fitted */\n",
       "#sk-container-id-7 div.sk-label.fitted:hover label.sk-toggleable__label.fitted {\n",
       "  color: var(--sklearn-color-text);\n",
       "  background-color: var(--sklearn-color-fitted-level-2);\n",
       "}\n",
       "\n",
       "/* Estimator label */\n",
       "\n",
       "#sk-container-id-7 div.sk-label label {\n",
       "  font-family: monospace;\n",
       "  font-weight: bold;\n",
       "  display: inline-block;\n",
       "  line-height: 1.2em;\n",
       "}\n",
       "\n",
       "#sk-container-id-7 div.sk-label-container {\n",
       "  text-align: center;\n",
       "}\n",
       "\n",
       "/* Estimator-specific */\n",
       "#sk-container-id-7 div.sk-estimator {\n",
       "  font-family: monospace;\n",
       "  border: 1px dotted var(--sklearn-color-border-box);\n",
       "  border-radius: 0.25em;\n",
       "  box-sizing: border-box;\n",
       "  margin-bottom: 0.5em;\n",
       "  /* unfitted */\n",
       "  background-color: var(--sklearn-color-unfitted-level-0);\n",
       "}\n",
       "\n",
       "#sk-container-id-7 div.sk-estimator.fitted {\n",
       "  /* fitted */\n",
       "  background-color: var(--sklearn-color-fitted-level-0);\n",
       "}\n",
       "\n",
       "/* on hover */\n",
       "#sk-container-id-7 div.sk-estimator:hover {\n",
       "  /* unfitted */\n",
       "  background-color: var(--sklearn-color-unfitted-level-2);\n",
       "}\n",
       "\n",
       "#sk-container-id-7 div.sk-estimator.fitted:hover {\n",
       "  /* fitted */\n",
       "  background-color: var(--sklearn-color-fitted-level-2);\n",
       "}\n",
       "\n",
       "/* Specification for estimator info (e.g. \"i\" and \"?\") */\n",
       "\n",
       "/* Common style for \"i\" and \"?\" */\n",
       "\n",
       ".sk-estimator-doc-link,\n",
       "a:link.sk-estimator-doc-link,\n",
       "a:visited.sk-estimator-doc-link {\n",
       "  float: right;\n",
       "  font-size: smaller;\n",
       "  line-height: 1em;\n",
       "  font-family: monospace;\n",
       "  background-color: var(--sklearn-color-background);\n",
       "  border-radius: 1em;\n",
       "  height: 1em;\n",
       "  width: 1em;\n",
       "  text-decoration: none !important;\n",
       "  margin-left: 0.5em;\n",
       "  text-align: center;\n",
       "  /* unfitted */\n",
       "  border: var(--sklearn-color-unfitted-level-1) 1pt solid;\n",
       "  color: var(--sklearn-color-unfitted-level-1);\n",
       "}\n",
       "\n",
       ".sk-estimator-doc-link.fitted,\n",
       "a:link.sk-estimator-doc-link.fitted,\n",
       "a:visited.sk-estimator-doc-link.fitted {\n",
       "  /* fitted */\n",
       "  border: var(--sklearn-color-fitted-level-1) 1pt solid;\n",
       "  color: var(--sklearn-color-fitted-level-1);\n",
       "}\n",
       "\n",
       "/* On hover */\n",
       "div.sk-estimator:hover .sk-estimator-doc-link:hover,\n",
       ".sk-estimator-doc-link:hover,\n",
       "div.sk-label-container:hover .sk-estimator-doc-link:hover,\n",
       ".sk-estimator-doc-link:hover {\n",
       "  /* unfitted */\n",
       "  background-color: var(--sklearn-color-unfitted-level-3);\n",
       "  color: var(--sklearn-color-background);\n",
       "  text-decoration: none;\n",
       "}\n",
       "\n",
       "div.sk-estimator.fitted:hover .sk-estimator-doc-link.fitted:hover,\n",
       ".sk-estimator-doc-link.fitted:hover,\n",
       "div.sk-label-container:hover .sk-estimator-doc-link.fitted:hover,\n",
       ".sk-estimator-doc-link.fitted:hover {\n",
       "  /* fitted */\n",
       "  background-color: var(--sklearn-color-fitted-level-3);\n",
       "  color: var(--sklearn-color-background);\n",
       "  text-decoration: none;\n",
       "}\n",
       "\n",
       "/* Span, style for the box shown on hovering the info icon */\n",
       ".sk-estimator-doc-link span {\n",
       "  display: none;\n",
       "  z-index: 9999;\n",
       "  position: relative;\n",
       "  font-weight: normal;\n",
       "  right: .2ex;\n",
       "  padding: .5ex;\n",
       "  margin: .5ex;\n",
       "  width: min-content;\n",
       "  min-width: 20ex;\n",
       "  max-width: 50ex;\n",
       "  color: var(--sklearn-color-text);\n",
       "  box-shadow: 2pt 2pt 4pt #999;\n",
       "  /* unfitted */\n",
       "  background: var(--sklearn-color-unfitted-level-0);\n",
       "  border: .5pt solid var(--sklearn-color-unfitted-level-3);\n",
       "}\n",
       "\n",
       ".sk-estimator-doc-link.fitted span {\n",
       "  /* fitted */\n",
       "  background: var(--sklearn-color-fitted-level-0);\n",
       "  border: var(--sklearn-color-fitted-level-3);\n",
       "}\n",
       "\n",
       ".sk-estimator-doc-link:hover span {\n",
       "  display: block;\n",
       "}\n",
       "\n",
       "/* \"?\"-specific style due to the `<a>` HTML tag */\n",
       "\n",
       "#sk-container-id-7 a.estimator_doc_link {\n",
       "  float: right;\n",
       "  font-size: 1rem;\n",
       "  line-height: 1em;\n",
       "  font-family: monospace;\n",
       "  background-color: var(--sklearn-color-background);\n",
       "  border-radius: 1rem;\n",
       "  height: 1rem;\n",
       "  width: 1rem;\n",
       "  text-decoration: none;\n",
       "  /* unfitted */\n",
       "  color: var(--sklearn-color-unfitted-level-1);\n",
       "  border: var(--sklearn-color-unfitted-level-1) 1pt solid;\n",
       "}\n",
       "\n",
       "#sk-container-id-7 a.estimator_doc_link.fitted {\n",
       "  /* fitted */\n",
       "  border: var(--sklearn-color-fitted-level-1) 1pt solid;\n",
       "  color: var(--sklearn-color-fitted-level-1);\n",
       "}\n",
       "\n",
       "/* On hover */\n",
       "#sk-container-id-7 a.estimator_doc_link:hover {\n",
       "  /* unfitted */\n",
       "  background-color: var(--sklearn-color-unfitted-level-3);\n",
       "  color: var(--sklearn-color-background);\n",
       "  text-decoration: none;\n",
       "}\n",
       "\n",
       "#sk-container-id-7 a.estimator_doc_link.fitted:hover {\n",
       "  /* fitted */\n",
       "  background-color: var(--sklearn-color-fitted-level-3);\n",
       "}\n",
       "</style><div id=\"sk-container-id-7\" class=\"sk-top-container\"><div class=\"sk-text-repr-fallback\"><pre>RandomForestRegressor(random_state=42)</pre><b>In a Jupyter environment, please rerun this cell to show the HTML representation or trust the notebook. <br />On GitHub, the HTML representation is unable to render, please try loading this page with nbviewer.org.</b></div><div class=\"sk-container\" hidden><div class=\"sk-item\"><div class=\"sk-estimator fitted sk-toggleable\"><input class=\"sk-toggleable__control sk-hidden--visually\" id=\"sk-estimator-id-7\" type=\"checkbox\" checked><label for=\"sk-estimator-id-7\" class=\"sk-toggleable__label fitted sk-toggleable__label-arrow\"><div><div>RandomForestRegressor</div></div><div><a class=\"sk-estimator-doc-link fitted\" rel=\"noreferrer\" target=\"_blank\" href=\"https://scikit-learn.org/1.6/modules/generated/sklearn.ensemble.RandomForestRegressor.html\">?<span>Documentation for RandomForestRegressor</span></a><span class=\"sk-estimator-doc-link fitted\">i<span>Fitted</span></span></div></label><div class=\"sk-toggleable__content fitted\"><pre>RandomForestRegressor(random_state=42)</pre></div> </div></div></div></div>"
      ],
      "text/plain": [
       "RandomForestRegressor(random_state=42)"
      ]
     },
     "execution_count": 206,
     "metadata": {},
     "output_type": "execute_result"
    }
   ],
   "source": [
    "rf_model = RandomForestRegressor(n_estimators=100, random_state=42)\n",
    "rf_model.fit(X_train, y_train)"
   ]
  },
  {
   "cell_type": "code",
   "execution_count": 207,
   "id": "e5384449",
   "metadata": {},
   "outputs": [
    {
     "name": "stdout",
     "output_type": "stream",
     "text": [
      "RMSE Random Forest : 26.69\n",
      "R² Random Forest : 0.31\n"
     ]
    }
   ],
   "source": [
    "y_pred_rf = rf_model.predict(X_test)\n",
    "\n",
    "rmse_rf = np.sqrt(mean_squared_error(y_test_rf, y_pred_rf))\n",
    "r2_rf = r2_score(y_test_rf, y_pred_rf)\n",
    "\n",
    "print(f\"RMSE Random Forest : {rmse_rf:.2f}\")\n",
    "print(f\"R² Random Forest : {r2_rf:.2f}\")"
   ]
  },
  {
   "cell_type": "markdown",
   "id": "58de1ace",
   "metadata": {},
   "source": [
    "### Feature engineering"
   ]
  },
  {
   "cell_type": "markdown",
   "id": "84f4821c",
   "metadata": {},
   "source": [
    "- delta sur les cours 3j, 10j, 30j\n",
    "- moyennes mobiles pour capturer les tendances\n",
    "- RSI pour détecter les zones de surachat/survente\n",
    "- les bandes de Bollinger pour capter la volatilité\n",
    "- le MACD pour observer les changements de la vitesse de variation des prix"
   ]
  },
  {
   "cell_type": "markdown",
   "id": "788c3cb2",
   "metadata": {},
   "source": [
    "1 - Deltas"
   ]
  },
  {
   "cell_type": "code",
   "execution_count": 208,
   "id": "7891d1b7",
   "metadata": {},
   "outputs": [],
   "source": [
    "apple_df['delta_3j'] = (apple_df['close'] - apple_df['close'].shift(3)) / apple_df['close'].shift(3)\n",
    "apple_df['delta_10j'] = (apple_df['close'] - apple_df['close'].shift(10)) / apple_df['close'].shift(10)\n",
    "apple_df['delta_30j'] = (apple_df['close'] - apple_df['close'].shift(30)) / apple_df['close'].shift(30)"
   ]
  },
  {
   "cell_type": "code",
   "execution_count": 209,
   "id": "70115704",
   "metadata": {},
   "outputs": [
    {
     "data": {
      "text/plain": [
       "date          0\n",
       "open          0\n",
       "high          0\n",
       "low           0\n",
       "close         0\n",
       "volume        0\n",
       "delta_3j      3\n",
       "delta_10j    10\n",
       "delta_30j    30\n",
       "dtype: int64"
      ]
     },
     "execution_count": 209,
     "metadata": {},
     "output_type": "execute_result"
    }
   ],
   "source": [
    "apple_df.isnull().sum()"
   ]
  },
  {
   "cell_type": "code",
   "execution_count": 210,
   "id": "b5b29e50",
   "metadata": {},
   "outputs": [],
   "source": [
    "apple_df = apple_df.dropna(subset=['delta_3j', 'delta_10j', 'delta_30j'])"
   ]
  },
  {
   "cell_type": "code",
   "execution_count": 211,
   "id": "0e24e453",
   "metadata": {},
   "outputs": [],
   "source": [
    "X = apple_df.drop(columns=['date', 'close'])\n",
    "y = apple_df['close']"
   ]
  },
  {
   "cell_type": "code",
   "execution_count": 212,
   "id": "3ccc781f",
   "metadata": {},
   "outputs": [],
   "source": [
    "scaler = StandardScaler()\n",
    "X_scaled = scaler.fit_transform(X)"
   ]
  },
  {
   "cell_type": "code",
   "execution_count": 213,
   "id": "e184aed3",
   "metadata": {},
   "outputs": [
    {
     "name": "stdout",
     "output_type": "stream",
     "text": [
      "RMSE Random Forest avec deltas : 26.92\n",
      "R² Random Forest avec deltas : 0.30\n",
      "MAE Random Forest avec deltas : 16.04\n"
     ]
    }
   ],
   "source": [
    "X_train, X_test, y_train, y_test = train_test_split(X_scaled, y, test_size=0.2, shuffle=False)\n",
    "\n",
    "rf_model = RandomForestRegressor(n_estimators=100, random_state=42)\n",
    "rf_model.fit(X_train, y_train)\n",
    "\n",
    "y_pred = rf_model.predict(X_test)\n",
    "\n",
    "rmse_rf = np.sqrt(mean_squared_error(y_test, y_pred))\n",
    "r2_rf = r2_score(y_test, y_pred)\n",
    "mae_rf = mean_absolute_error(y_test, y_pred)\n",
    "\n",
    "print(f\"RMSE Random Forest avec deltas : {rmse_rf:.2f}\")\n",
    "print(f\"R² Random Forest avec deltas : {r2_rf:.2f}\")\n",
    "print(f\"MAE Random Forest avec deltas : {mae_rf:.2f}\")"
   ]
  },
  {
   "cell_type": "markdown",
   "id": "dfe39cca",
   "metadata": {},
   "source": [
    "## GridSearchCV"
   ]
  },
  {
   "cell_type": "markdown",
   "id": "a6377475",
   "metadata": {},
   "source": [
    "Recherche de paramètres à optimiser pour la randomForest"
   ]
  },
  {
   "cell_type": "code",
   "execution_count": 214,
   "id": "a62c0728",
   "metadata": {},
   "outputs": [
    {
     "name": "stderr",
     "output_type": "stream",
     "text": [
      "/var/www/html/cours/brief15_prediction_bourse/venv/lib/python3.12/site-packages/sklearn/model_selection/_validation.py:528: FitFailedWarning: \n",
      "405 fits failed out of a total of 1215.\n",
      "The score on these train-test partitions for these parameters will be set to nan.\n",
      "If these failures are not expected, you can try to debug them by setting error_score='raise'.\n",
      "\n",
      "Below are more details about the failures:\n",
      "--------------------------------------------------------------------------------\n",
      "361 fits failed with the following error:\n",
      "Traceback (most recent call last):\n",
      "  File \"/var/www/html/cours/brief15_prediction_bourse/venv/lib/python3.12/site-packages/sklearn/model_selection/_validation.py\", line 866, in _fit_and_score\n",
      "    estimator.fit(X_train, y_train, **fit_params)\n",
      "  File \"/var/www/html/cours/brief15_prediction_bourse/venv/lib/python3.12/site-packages/sklearn/base.py\", line 1382, in wrapper\n",
      "    estimator._validate_params()\n",
      "  File \"/var/www/html/cours/brief15_prediction_bourse/venv/lib/python3.12/site-packages/sklearn/base.py\", line 436, in _validate_params\n",
      "    validate_parameter_constraints(\n",
      "  File \"/var/www/html/cours/brief15_prediction_bourse/venv/lib/python3.12/site-packages/sklearn/utils/_param_validation.py\", line 98, in validate_parameter_constraints\n",
      "    raise InvalidParameterError(\n",
      "sklearn.utils._param_validation.InvalidParameterError: The 'max_features' parameter of RandomForestRegressor must be an int in the range [1, inf), a float in the range (0.0, 1.0], a str among {'sqrt', 'log2'} or None. Got 'auto' instead.\n",
      "\n",
      "--------------------------------------------------------------------------------\n",
      "44 fits failed with the following error:\n",
      "Traceback (most recent call last):\n",
      "  File \"/var/www/html/cours/brief15_prediction_bourse/venv/lib/python3.12/site-packages/sklearn/model_selection/_validation.py\", line 866, in _fit_and_score\n",
      "    estimator.fit(X_train, y_train, **fit_params)\n",
      "  File \"/var/www/html/cours/brief15_prediction_bourse/venv/lib/python3.12/site-packages/sklearn/base.py\", line 1382, in wrapper\n",
      "    estimator._validate_params()\n",
      "  File \"/var/www/html/cours/brief15_prediction_bourse/venv/lib/python3.12/site-packages/sklearn/base.py\", line 436, in _validate_params\n",
      "    validate_parameter_constraints(\n",
      "  File \"/var/www/html/cours/brief15_prediction_bourse/venv/lib/python3.12/site-packages/sklearn/utils/_param_validation.py\", line 98, in validate_parameter_constraints\n",
      "    raise InvalidParameterError(\n",
      "sklearn.utils._param_validation.InvalidParameterError: The 'max_features' parameter of RandomForestRegressor must be an int in the range [1, inf), a float in the range (0.0, 1.0], a str among {'log2', 'sqrt'} or None. Got 'auto' instead.\n",
      "\n",
      "  warnings.warn(some_fits_failed_message, FitFailedWarning)\n",
      "/var/www/html/cours/brief15_prediction_bourse/venv/lib/python3.12/site-packages/sklearn/model_selection/_search.py:1108: UserWarning: One or more of the test scores are non-finite: [           nan            nan            nan            nan\n",
      "            nan            nan            nan            nan\n",
      "            nan            nan            nan            nan\n",
      "            nan            nan            nan            nan\n",
      "            nan            nan            nan            nan\n",
      "            nan            nan            nan            nan\n",
      "            nan            nan            nan  -978.90001576\n",
      "  -972.9698085   -979.45831768  -994.64679258  -990.93361496\n",
      "  -990.43805003 -1009.40517567 -1011.5952973  -1006.65216762\n",
      "  -993.98086294  -990.28117911  -988.67601456  -993.42338364\n",
      "  -990.55838599  -994.08018798 -1002.72891369 -1003.38542831\n",
      " -1003.87208683 -1016.54697994 -1007.26581376 -1008.36552393\n",
      " -1016.54697994 -1007.26581376 -1008.36552393 -1027.38232919\n",
      " -1013.9092699  -1016.74259739  -978.90001576  -972.9698085\n",
      "  -979.45831768  -994.64679258  -990.93361496  -990.43805003\n",
      " -1009.40517567 -1011.5952973  -1006.65216762  -993.98086294\n",
      "  -990.28117911  -988.67601456  -993.42338364  -990.55838599\n",
      "  -994.08018798 -1002.72891369 -1003.38542831 -1003.87208683\n",
      " -1016.54697994 -1007.26581376 -1008.36552393 -1016.54697994\n",
      " -1007.26581376 -1008.36552393 -1027.38232919 -1013.9092699\n",
      " -1016.74259739            nan            nan            nan\n",
      "            nan            nan            nan            nan\n",
      "            nan            nan            nan            nan\n",
      "            nan            nan            nan            nan\n",
      "            nan            nan            nan            nan\n",
      "            nan            nan            nan            nan\n",
      "            nan            nan            nan            nan\n",
      " -1013.94919239  -999.85664123  -990.57901501  -996.78316468\n",
      "  -997.68588461  -997.53525652 -1017.38613805 -1005.8092226\n",
      " -1002.16070893  -978.9267392   -983.28351338  -984.73480632\n",
      "  -983.67543709  -988.93162303  -990.36754044 -1006.38789932\n",
      " -1005.84825236 -1006.7832336  -1004.51093056 -1005.84464642\n",
      " -1004.8058105  -1004.51093056 -1005.84464642 -1004.8058105\n",
      " -1018.38414168 -1012.71931718 -1012.63694104 -1013.94919239\n",
      "  -999.85664123  -990.57901501  -996.78316468  -997.68588461\n",
      "  -997.53525652 -1017.38613805 -1005.8092226  -1002.16070893\n",
      "  -978.9267392   -983.28351338  -984.73480632  -983.67543709\n",
      "  -988.93162303  -990.36754044 -1006.38789932 -1005.84825236\n",
      " -1006.7832336  -1004.51093056 -1005.84464642 -1004.8058105\n",
      " -1004.51093056 -1005.84464642 -1004.8058105  -1018.38414168\n",
      " -1012.71931718 -1012.63694104            nan            nan\n",
      "            nan            nan            nan            nan\n",
      "            nan            nan            nan            nan\n",
      "            nan            nan            nan            nan\n",
      "            nan            nan            nan            nan\n",
      "            nan            nan            nan            nan\n",
      "            nan            nan            nan            nan\n",
      "            nan  -975.29669459  -971.38708464  -978.4795079\n",
      "  -994.64432694  -990.96396912  -990.33853498 -1009.40517567\n",
      " -1011.5952973  -1006.65216762  -993.92288762  -990.25090704\n",
      "  -988.65876789  -993.45448815  -990.53876677  -994.56164509\n",
      " -1002.75435303 -1003.39728129 -1003.87834252 -1016.54697994\n",
      " -1007.26581376 -1008.36552393 -1016.54697994 -1007.26581376\n",
      " -1008.36552393 -1027.38232919 -1013.9092699  -1016.74259739\n",
      "  -975.29669459  -971.38708464  -978.4795079   -994.64432694\n",
      "  -990.96396912  -990.33853498 -1009.40517567 -1011.5952973\n",
      " -1006.65216762  -993.92288762  -990.25090704  -988.65876789\n",
      "  -993.45448815  -990.53876677  -994.56164509 -1002.75435303\n",
      " -1003.39728129 -1003.87834252 -1016.54697994 -1007.26581376\n",
      " -1008.36552393 -1016.54697994 -1007.26581376 -1008.36552393\n",
      " -1027.38232919 -1013.9092699  -1016.74259739]\n",
      "  warnings.warn(\n"
     ]
    },
    {
     "name": "stdout",
     "output_type": "stream",
     "text": [
      "Meilleurs paramètres :  {'max_depth': 20, 'max_features': 'sqrt', 'min_samples_leaf': 1, 'min_samples_split': 2, 'n_estimators': 100}\n",
      "RMSE Random Forest après GridSearch : 28.35\n",
      "R² Random Forest après GridSearch : 0.22\n",
      "MAE Random Forest après GridSearch : 17.44\n"
     ]
    }
   ],
   "source": [
    "param_grid = {\n",
    "    'n_estimators': [50, 100, 200],\n",
    "    'max_depth': [None, 10, 20],\n",
    "    'min_samples_split': [2, 5, 10],\n",
    "    'min_samples_leaf': [1, 2, 4],\n",
    "    'max_features': ['auto', 'sqrt', 'log2'],\n",
    "}\n",
    "\n",
    "rf = RandomForestRegressor(random_state=42)\n",
    "\n",
    "grid_search = GridSearchCV(estimator=rf, param_grid=param_grid, cv=5, n_jobs=-1, scoring='neg_mean_squared_error')\n",
    "grid_search.fit(X_train, y_train)\n",
    "\n",
    "print(\"Meilleurs paramètres : \", grid_search.best_params_)\n",
    "\n",
    "best_rf = grid_search.best_estimator_\n",
    "y_pred_best = best_rf.predict(X_test)\n",
    "\n",
    "rmse_grid_search = np.sqrt(mean_squared_error(y_test, y_pred_best))\n",
    "print(f\"RMSE Random Forest après GridSearch : {rmse_grid_search:.2f}\")\n",
    "\n",
    "r2_grid_search = best_rf.score(X_test, y_test)\n",
    "print(f\"R² Random Forest après GridSearch : {r2_grid_search:.2f}\")\n",
    "\n",
    "mae_best = mean_absolute_error(y_test, y_pred_best)\n",
    "print(f\"MAE Random Forest après GridSearch : {mae_best:.2f}\")"
   ]
  },
  {
   "cell_type": "markdown",
   "id": "b605cd82",
   "metadata": {},
   "source": [
    "Ajout des moyennes mobiles"
   ]
  },
  {
   "cell_type": "code",
   "execution_count": 215,
   "id": "62bdba54",
   "metadata": {},
   "outputs": [],
   "source": [
    "apple_df['sma10'] = apple_df['close'].rolling(window=10).mean()\n",
    "apple_df['sma30'] = apple_df['close'].rolling(window=30).mean()"
   ]
  },
  {
   "cell_type": "markdown",
   "id": "619d1ba8",
   "metadata": {},
   "source": [
    "Ajout RSI (Relative Strength Index)"
   ]
  },
  {
   "cell_type": "code",
   "execution_count": 216,
   "id": "100c570a",
   "metadata": {},
   "outputs": [],
   "source": [
    "rsi = ta.momentum.RSIIndicator(close=close_apple, window=14)\n",
    "apple_df['rsi_14'] = rsi.rsi()"
   ]
  },
  {
   "cell_type": "markdown",
   "id": "600d6a00",
   "metadata": {},
   "source": [
    "Ajout des bandes de Bollinger"
   ]
  },
  {
   "cell_type": "code",
   "execution_count": 217,
   "id": "285c150e",
   "metadata": {},
   "outputs": [],
   "source": [
    "bollinger = ta.volatility.BollingerBands(close=close_apple, window=20, window_dev=2)\n",
    "apple_df['bollinger_mavg'] = bollinger.bollinger_mavg()\n",
    "apple_df['bollinger_high'] = bollinger.bollinger_hband()\n",
    "apple_df['bollinger_low'] = bollinger.bollinger_lband()"
   ]
  },
  {
   "cell_type": "markdown",
   "id": "e59fb7b9",
   "metadata": {},
   "source": [
    "Ajout MACD"
   ]
  },
  {
   "cell_type": "code",
   "execution_count": 218,
   "id": "94811b80",
   "metadata": {},
   "outputs": [],
   "source": [
    "macd = ta.trend.MACD(close=close_apple)\n",
    "apple_df['macd'] = macd.macd()\n",
    "apple_df['macd_signal'] = macd.macd_signal()\n",
    "apple_df['macd_diff'] = macd.macd_diff()"
   ]
  },
  {
   "cell_type": "markdown",
   "id": "e43ad16c",
   "metadata": {},
   "source": [
    "Création de la target et nettoyage des premières lignes Nan"
   ]
  },
  {
   "cell_type": "code",
   "execution_count": 219,
   "id": "c12fc2de",
   "metadata": {},
   "outputs": [],
   "source": [
    "apple_df['target'] = apple_df['close'].shift(-1)"
   ]
  },
  {
   "cell_type": "code",
   "execution_count": 220,
   "id": "6cf961f6",
   "metadata": {},
   "outputs": [],
   "source": [
    "apple_df.dropna(inplace=True)"
   ]
  },
  {
   "cell_type": "markdown",
   "id": "d266f0ad",
   "metadata": {},
   "source": [
    "## Réentraînement de la Random Forest"
   ]
  },
  {
   "cell_type": "code",
   "execution_count": 221,
   "id": "7eeb6691",
   "metadata": {},
   "outputs": [
    {
     "data": {
      "text/plain": [
       "Index(['date', 'open', 'high', 'low', 'close', 'volume', 'delta_3j',\n",
       "       'delta_10j', 'delta_30j', 'sma10', 'sma30', 'rsi_14', 'bollinger_mavg',\n",
       "       'bollinger_high', 'bollinger_low', 'macd', 'macd_signal', 'macd_diff',\n",
       "       'target'],\n",
       "      dtype='object')"
      ]
     },
     "execution_count": 221,
     "metadata": {},
     "output_type": "execute_result"
    }
   ],
   "source": [
    "apple_df.columns"
   ]
  },
  {
   "cell_type": "code",
   "execution_count": 222,
   "id": "a4ebd1b7",
   "metadata": {},
   "outputs": [],
   "source": [
    "features = ['open', 'high', 'low', 'volume',\n",
    "            'delta_3j', 'delta_10j', 'delta_30j',\n",
    "            'sma10', 'sma30', 'rsi_14',\n",
    "            'bollinger_mavg', 'bollinger_high', 'bollinger_low',\n",
    "            'macd', 'macd_signal', 'macd_diff']"
   ]
  },
  {
   "cell_type": "code",
   "execution_count": 223,
   "id": "1da6a09b",
   "metadata": {},
   "outputs": [
    {
     "name": "stdout",
     "output_type": "stream",
     "text": [
      "RMSE Random Forest avec indicateurs : 30.43\n",
      "R² Random Forest avec indicateurs : 0.11\n",
      "MAE Random Forest avec indicateurs : 19.85\n"
     ]
    }
   ],
   "source": [
    "X = apple_df[features]\n",
    "y = apple_df['target']\n",
    "\n",
    "scaler = StandardScaler()\n",
    "X_scaled = scaler.fit_transform(X)\n",
    "\n",
    "X_train, X_test, y_train, y_test = train_test_split(X_scaled, y, test_size=0.2, shuffle=False)\n",
    "\n",
    "rf_model = RandomForestRegressor(n_estimators=100, random_state=42)\n",
    "rf_model.fit(X_train, y_train)\n",
    "\n",
    "y_pred = rf_model.predict(X_test)\n",
    "\n",
    "rmse_rf = np.sqrt(mean_squared_error(y_test, y_pred))\n",
    "r2_rf = r2_score(y_test, y_pred)\n",
    "mae_rf = mean_absolute_error(y_test, y_pred)\n",
    "\n",
    "print(f\"RMSE Random Forest avec indicateurs : {rmse_rf:.2f}\")\n",
    "print(f\"R² Random Forest avec indicateurs : {r2_rf:.2f}\")\n",
    "print(f\"MAE Random Forest avec indicateurs : {mae_rf:.2f}\")"
   ]
  },
  {
   "cell_type": "code",
   "execution_count": 224,
   "id": "03e20a45",
   "metadata": {},
   "outputs": [
    {
     "data": {
      "image/png": "[encoded data removed]",
      "text/plain": [
       "<Figure size 1000x600 with 1 Axes>"
      ]
     },
     "metadata": {},
     "output_type": "display_data"
    }
   ],
   "source": [
    "importances = rf_model.feature_importances_\n",
    "feat_names = X.columns\n",
    "\n",
    "plt.figure(figsize=(10,6))\n",
    "plt.barh(feat_names, importances)\n",
    "plt.title(\"Importance des variables\")\n",
    "plt.show()"
   ]
  },
  {
   "cell_type": "code",
   "execution_count": 225,
   "id": "0cea48df",
   "metadata": {},
   "outputs": [],
   "source": [
    "features_reajusted = ['open', 'high', 'low', 'sma10', 'sma30', 'bollinger_mavg', 'bollinger_high', 'bollinger_low']"
   ]
  },
  {
   "cell_type": "code",
   "execution_count": 226,
   "id": "bd2698f8",
   "metadata": {},
   "outputs": [
    {
     "name": "stdout",
     "output_type": "stream",
     "text": [
      "RMSE Random Forest avec indicateurs : 29.06\n",
      "R² Random Forest avec indicateurs : 0.19\n",
      "MAE Random Forest avec indicateurs : 18.67\n"
     ]
    }
   ],
   "source": [
    "X = apple_df[features_reajusted]\n",
    "y = apple_df['target']\n",
    "\n",
    "scaler = StandardScaler()\n",
    "X_scaled = scaler.fit_transform(X)\n",
    "\n",
    "X_train, X_test, y_train, y_test = train_test_split(X_scaled, y, test_size=0.2, shuffle=False)\n",
    "\n",
    "rf_model = RandomForestRegressor(n_estimators=100, random_state=42)\n",
    "rf_model.fit(X_train, y_train)\n",
    "\n",
    "y_pred = rf_model.predict(X_test)\n",
    "\n",
    "rmse_rf = np.sqrt(mean_squared_error(y_test, y_pred))\n",
    "r2_rf = r2_score(y_test, y_pred)\n",
    "mae_rf = mean_absolute_error(y_test, y_pred)\n",
    "\n",
    "print(f\"RMSE Random Forest avec indicateurs : {rmse_rf:.2f}\")\n",
    "print(f\"R² Random Forest avec indicateurs : {r2_rf:.2f}\")\n",
    "print(f\"MAE Random Forest avec indicateurs : {mae_rf:.2f}\")"
   ]
  },
  {
   "cell_type": "markdown",
   "id": "1507c6e1",
   "metadata": {},
   "source": [
    "## Automatisation"
   ]
  },
  {
   "cell_type": "code",
   "execution_count": 227,
   "id": "2be46e9f",
   "metadata": {},
   "outputs": [],
   "source": [
    "def test_features(feature_list, df, target_col='target', test_size=0.2):\n",
    "    X = df[feature_list].copy()\n",
    "    y = df[target_col].copy()\n",
    "\n",
    "    X_train, X_test, y_train, y_test = train_test_split(X, y, test_size=test_size, shuffle=False)\n",
    "\n",
    "    \n",
    "    scaler = StandardScaler()\n",
    "    X_train_scaled = scaler.fit_transform(X_train)\n",
    "    X_test_scaled = scaler.transform(X_test)\n",
    "\n",
    "    rf_model = RandomForestRegressor(n_estimators=100, random_state=42)\n",
    "    rf_model.fit(X_train_scaled, y_train)\n",
    "\n",
    "    y_pred_rf_indicators = rf_model.predict(X_test_scaled)\n",
    "\n",
    "    rmse = np.sqrt(mean_squared_error(y_test, y_pred))\n",
    "    r2 = r2_score(y_test, y_pred)\n",
    "    mae = mean_absolute_error(y_test, y_pred)\n",
    "\n",
    "    return {'features': feature_list, 'RMSE': rmse, 'R2': r2, 'MAE': mae}"
   ]
  },
  {
   "cell_type": "code",
   "execution_count": 228,
   "id": "081c16a2",
   "metadata": {},
   "outputs": [
    {
     "name": "stdout",
     "output_type": "stream",
     "text": [
      "                                            features       RMSE        R2  \\\n",
      "0                    [open, high, low, sma10, sma30]  29.055869  0.190895   \n",
      "1    [bollinger_mavg, bollinger_high, bollinger_low]  29.055869  0.190895   \n",
      "2  [open, high, low, bollinger_mavg, bollinger_hi...  29.055869  0.190895   \n",
      "3                                     [sma10, sma30]  29.055869  0.190895   \n",
      "4                                  [open, high, low]  29.055869  0.190895   \n",
      "5  [open, high, low, bollinger_mavg, bollinger_hi...  29.055869  0.190895   \n",
      "\n",
      "         MAE  \n",
      "0  18.668843  \n",
      "1  18.668843  \n",
      "2  18.668843  \n",
      "3  18.668843  \n",
      "4  18.668843  \n",
      "5  18.668843  \n"
     ]
    }
   ],
   "source": [
    "feature_sets = [\n",
    "    ['open', 'high', 'low', 'sma10', 'sma30'],\n",
    "    ['bollinger_mavg', 'bollinger_high', 'bollinger_low'],\n",
    "    ['open', 'high', 'low', 'bollinger_mavg', 'bollinger_high', 'bollinger_low'],\n",
    "    ['sma10', 'sma30'],\n",
    "    ['open', 'high', 'low'],\n",
    "    ['open', 'high', 'low', 'bollinger_mavg', 'bollinger_high', 'bollinger_low', 'sma10', 'sma30']\n",
    "]\n",
    "\n",
    "results = []\n",
    "for features in feature_sets:\n",
    "    result = test_features(features, apple_df)\n",
    "    results.append(result)\n",
    "\n",
    "results_df = pd.DataFrame(results)\n",
    "results_df = results_df.sort_values(by='RMSE')\n",
    "print(results_df)"
   ]
  },
  {
   "cell_type": "markdown",
   "id": "ef5a34da",
   "metadata": {},
   "source": [
    "Analyse :\n",
    "\n",
    "1 - Combinaison de prix et indicateurs techniques : Les meilleurs résultats sont obtenus en combinant les prix (open, high, low) avec des indicateurs techniques comme les bandes de Bollinger. Ces derniers ajoutent un signal utile en complément, mais ne suffisent pas seuls.\n",
    "\n",
    "2 - Les prix seuls : Utiliser uniquement les prix (open, high, low) donne des résultats presque aussi bons que ceux avec les bandes de Bollinger ajoutées. Les prix sont donc très informatifs à eux seuls.\n",
    "\n",
    "3 - Moyennes mobiles (sma10/sma30) : Ces indicateurs, pris isolément, sont peu utiles. Ils lissent trop les données, ce qui masque les variations immédiates importantes.\n",
    "\n",
    "4 - Bandes de Bollinger seules : Elles sont inefficaces sans le contexte des prix bruts, probablement parce qu'elles dépendent fortement de la moyenne et de l’écart-type."
   ]
  },
  {
   "cell_type": "code",
   "execution_count": 229,
   "id": "c29368ea",
   "metadata": {},
   "outputs": [
    {
     "name": "stdout",
     "output_type": "stream",
     "text": [
      "RMSE Random Forest avec indicateurs : 28.41\n",
      "R² Random Forest avec indicateurs : 0.23\n",
      "MAE Random Forest avec indicateurs : 18.08\n"
     ]
    }
   ],
   "source": [
    "X = apple_df[['open', 'high', 'low', 'bollinger_mavg', 'bollinger_high', 'bollinger_low']]\n",
    "y = apple_df['target']\n",
    "\n",
    "scaler = StandardScaler()\n",
    "X_scaled = scaler.fit_transform(X)\n",
    "\n",
    "X_train, X_test, y_train, y_test = train_test_split(X_scaled, y, test_size=0.2, shuffle=False)\n",
    "\n",
    "rf_model = RandomForestRegressor(n_estimators=100, random_state=42)\n",
    "rf_model.fit(X_train, y_train)\n",
    "\n",
    "y_pred_rf_indicator = rf_model.predict(X_test)\n",
    "\n",
    "rmse_rf = np.sqrt(mean_squared_error(y_test, y_pred_rf_indicator))\n",
    "r2_rf = r2_score(y_test, y_pred_rf_indicator)\n",
    "mae_rf = mean_absolute_error(y_test, y_pred_rf_indicator)\n",
    "\n",
    "print(f\"RMSE Random Forest avec indicateurs : {rmse_rf:.2f}\")\n",
    "print(f\"R² Random Forest avec indicateurs : {r2_rf:.2f}\")\n",
    "print(f\"MAE Random Forest avec indicateurs : {mae_rf:.2f}\")"
   ]
  },
  {
   "cell_type": "markdown",
   "id": "69a0b91a",
   "metadata": {},
   "source": [
    "# Visualisation"
   ]
  },
  {
   "cell_type": "code",
   "execution_count": 230,
   "id": "f14195b5",
   "metadata": {},
   "outputs": [],
   "source": [
    "forecast_index = test_arima.index \n",
    "forecast_series = pd.Series(forecast, index=forecast_index)"
   ]
  },
  {
   "cell_type": "code",
   "execution_count": 231,
   "id": "41d0be13",
   "metadata": {},
   "outputs": [
    {
     "name": "stdout",
     "output_type": "stream",
     "text": [
      "(770,)\n",
      "(770,)\n"
     ]
    }
   ],
   "source": [
    "print(y_test_rf.shape)\n",
    "print(y_pred_rf.shape)"
   ]
  },
  {
   "cell_type": "code",
   "execution_count": 232,
   "id": "4e01649f",
   "metadata": {},
   "outputs": [
    {
     "data": {
      "image/png": "[encoded data removed]",
      "text/plain": [
       "<Figure size 1200x600 with 1 Axes>"
      ]
     },
     "metadata": {},
     "output_type": "display_data"
    }
   ],
   "source": [
    "plt.figure(figsize=(12, 6))\n",
    "\n",
    "plt.plot(y_test.index, y_test, label='Prix réél', color='blue', linewidth=2)\n",
    "plt.plot(forecast_series.index, forecast_series, label='Prédiction Arima', color='red', linestyle='--')\n",
    "plt.plot(y_test_rf.index, y_pred_rf, label='Prédiction Random Forest (simple)', color='green', linestyle='-.')\n",
    "plt.plot(y_test.index, y_pred_rf_indicator, label='Prédiction Random Forest (avec indicateurs)', color='orange', linestyle=':')\n",
    "\n",
    "plt.title('Comparaison des prévisions des modèles vs prix réel', fontsize=16)\n",
    "plt.xlabel('Date', fontsize=12)\n",
    "plt.ylabel('Prix de l\\'action ($)', fontsize=12)\n",
    "plt.legend()\n",
    "\n",
    "plt.grid(True)\n",
    "plt.show()"
   ]
  },
  {
   "cell_type": "code",
   "execution_count": null,
   "id": "6539f4e6",
   "metadata": {},
   "outputs": [],
   "source": []
  }
 ],
 "metadata": {
  "kernelspec": {
   "display_name": "venv",
   "language": "python",
   "name": "python3"
  },
  "language_info": {
   "codemirror_mode": {
    "name": "ipython",
    "version": 3
   },
   "file_extension": ".py",
   "mimetype": "text/x-python",
   "name": "python",
   "nbconvert_exporter": "python",
   "pygments_lexer": "ipython3",
   "version": "3.12.3"
  }
 },
 "nbformat": 4,
 "nbformat_minor": 5
}
